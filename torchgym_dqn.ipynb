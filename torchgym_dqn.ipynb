{
  "nbformat": 4,
  "nbformat_minor": 0,
  "metadata": {
    "colab": {
      "provenance": [],
      "machine_shape": "hm",
      "gpuType": "T4",
      "authorship_tag": "ABX9TyPb3EKML6OB6hTMaj8uchht",
      "include_colab_link": true
    },
    "kernelspec": {
      "name": "python3",
      "display_name": "Python 3"
    },
    "language_info": {
      "name": "python"
    },
    "accelerator": "GPU"
  },
  "cells": [
    {
      "cell_type": "markdown",
      "metadata": {
        "id": "view-in-github",
        "colab_type": "text"
      },
      "source": [
        "<a href=\"https://colab.research.google.com/github/gitHubAndyLee2020/torchgym/blob/main/torchgym_dqn.ipynb\" target=\"_parent\"><img src=\"https://colab.research.google.com/assets/colab-badge.svg\" alt=\"Open In Colab\"/></a>"
      ]
    },
    {
      "cell_type": "markdown",
      "source": [
        "# TorchGym DQN"
      ],
      "metadata": {
        "id": "S5pvMIEiLetr"
      }
    },
    {
      "cell_type": "markdown",
      "source": [
        "### Set-up"
      ],
      "metadata": {
        "id": "j-Cpc5I6cvV_"
      }
    },
    {
      "cell_type": "code",
      "execution_count": null,
      "metadata": {
        "id": "6zFMQhe7LOmt"
      },
      "outputs": [],
      "source": [
        "!curl -L 'https://github.com/gitHubAndyLee2020/torchgym/archive/refs/heads/main.zip' -o torchgym.zip"
      ]
    },
    {
      "cell_type": "code",
      "source": [
        "!unzip torchgym.zip"
      ],
      "metadata": {
        "id": "LiPEDXIwMVgW"
      },
      "execution_count": null,
      "outputs": []
    },
    {
      "cell_type": "code",
      "source": [
        "!rm torchgym.zip"
      ],
      "metadata": {
        "id": "LoxtTN_yf3Kc"
      },
      "execution_count": 3,
      "outputs": []
    },
    {
      "cell_type": "code",
      "source": [
        "!mv torchgym-main torchgym"
      ],
      "metadata": {
        "id": "klmLyE_DNWcr"
      },
      "execution_count": 4,
      "outputs": []
    },
    {
      "cell_type": "code",
      "source": [
        "# Install packages for box2d environments\n",
        "!pip install swig\n",
        "!pip install gym[box2d]"
      ],
      "metadata": {
        "id": "nN6NRTpn_oQF"
      },
      "execution_count": null,
      "outputs": []
    },
    {
      "cell_type": "markdown",
      "source": [
        "### Define Optional Optimizer and Loss Function *Callbacks*"
      ],
      "metadata": {
        "id": "0snJYNjBcmG8"
      }
    },
    {
      "cell_type": "code",
      "source": [
        "import torch.optim as optim\n",
        "\n",
        "optimizer_callback = lambda net_parameters, learning_rate: optim.SGD(net_parameters, lr=learning_rate)"
      ],
      "metadata": {
        "id": "oNCKgD6IGsgY"
      },
      "execution_count": null,
      "outputs": []
    },
    {
      "cell_type": "code",
      "source": [
        "import torch.nn as nn\n",
        "\n",
        "def l1_loss_func_callback(target_v, v, state, action, reward, next_state, normalized_reward):\n",
        "    loss_func = nn.L1Loss()\n",
        "    return loss_func(target_v, v)"
      ],
      "metadata": {
        "id": "AMpryXYaWZ7N"
      },
      "execution_count": null,
      "outputs": []
    },
    {
      "cell_type": "markdown",
      "source": [
        "### Train Model"
      ],
      "metadata": {
        "id": "Q4AEPEshcyMf"
      }
    },
    {
      "cell_type": "code",
      "source": [
        "from torchgym.dqn.train import dqn_train"
      ],
      "metadata": {
        "id": "MbiGXexfMnV3"
      },
      "execution_count": 5,
      "outputs": []
    },
    {
      "cell_type": "code",
      "source": [
        "model_id = dqn_train(env_name='MountainCar-v0', num_episodes=1000, episode_length=200, model_label='model1', callbacks=['record', 'plot', 'save_on_max_reward'])"
      ],
      "metadata": {
        "id": "jLNmTOQyOHmv"
      },
      "execution_count": null,
      "outputs": []
    },
    {
      "cell_type": "code",
      "source": [
        "model_id"
      ],
      "metadata": {
        "id": "pnorgBW0Y2xh"
      },
      "execution_count": null,
      "outputs": []
    },
    {
      "cell_type": "markdown",
      "source": [
        "### Optional Evaluation and Record Functions"
      ],
      "metadata": {
        "id": "cwpOgMdJc1mQ"
      }
    },
    {
      "cell_type": "code",
      "source": [
        "from torchgym.dqn.eval import dqn_eval"
      ],
      "metadata": {
        "id": "-16gvBXAmogX"
      },
      "execution_count": null,
      "outputs": []
    },
    {
      "cell_type": "code",
      "source": [
        "if model_id is not None:\n",
        "  dqn_eval(env_name='MountainCar-v0', saved_model_id=model_id)"
      ],
      "metadata": {
        "id": "9xTp5rPTmr1z"
      },
      "execution_count": null,
      "outputs": []
    },
    {
      "cell_type": "code",
      "source": [
        "from torchgym.dqn.record import dqn_record"
      ],
      "metadata": {
        "id": "wFSSGRxqGZ6Y"
      },
      "execution_count": null,
      "outputs": []
    },
    {
      "cell_type": "code",
      "source": [
        "if model_id is not None:\n",
        "  dqn_record(env_name='MountainCar-v0', saved_model_id=model_id)"
      ],
      "metadata": {
        "id": "-qbltS84Gc-c"
      },
      "execution_count": null,
      "outputs": []
    },
    {
      "cell_type": "markdown",
      "source": [
        "### Save and Load History"
      ],
      "metadata": {
        "id": "cQq5uZ5PdQM7"
      }
    },
    {
      "cell_type": "code",
      "source": [
        "from torchgym.functions.history import save_history, upload_history"
      ],
      "metadata": {
        "id": "IGd001-ud7md"
      },
      "execution_count": null,
      "outputs": []
    },
    {
      "cell_type": "code",
      "source": [
        "save_history(action='drive')"
      ],
      "metadata": {
        "id": "mptFJbNhgdyv"
      },
      "execution_count": null,
      "outputs": []
    },
    {
      "cell_type": "code",
      "source": [
        "save_history()"
      ],
      "metadata": {
        "id": "LWxVss7Vf0yB"
      },
      "execution_count": null,
      "outputs": []
    },
    {
      "cell_type": "code",
      "source": [
        "# Remove history folder for testing purposes\n",
        "!rm -rf history/"
      ],
      "metadata": {
        "id": "Slz12ckBf9I2"
      },
      "execution_count": null,
      "outputs": []
    },
    {
      "cell_type": "code",
      "source": [
        "upload_history()"
      ],
      "metadata": {
        "id": "UzmDLkaXgEXI"
      },
      "execution_count": null,
      "outputs": []
    }
  ]
}